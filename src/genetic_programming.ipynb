{
 "cells": [
  {
   "cell_type": "markdown",
   "metadata": {},
   "source": [
    "#### Import required library\n",
    "\n",
    "- Importing all the required libraries\n"
   ]
  },
  {
   "cell_type": "code",
   "execution_count": 19,
   "metadata": {},
   "outputs": [],
   "source": [
    "import numpy as np\n",
    "import random\n",
    "import math\n",
    "from sklearn.model_selection import train_test_split\n",
    "import warnings\n",
    "warnings.filterwarnings('ignore', category=RuntimeWarning)\n",
    "warnings.filterwarnings(\"ignore\", category=SyntaxWarning)\n"
   ]
  },
  {
   "cell_type": "markdown",
   "metadata": {},
   "source": [
    "#### Loading the dataset"
   ]
  },
  {
   "cell_type": "code",
   "execution_count": 21,
   "metadata": {},
   "outputs": [
    {
     "name": "stdout",
     "output_type": "stream",
     "text": [
      "x_real shape: (3, 5000)\n",
      "y_real shape: (5000,)\n"
     ]
    }
   ],
   "source": [
    "data = np.load('../data/problem_3.npz')\n",
    "x_real= data['x']\n",
    "y_real = data['y']\n",
    "print(f\"x_real shape: {x_real.shape}\")\n",
    "print(f\"y_real shape: {y_real.shape}\")"
   ]
  },
  {
   "cell_type": "markdown",
   "metadata": {},
   "source": [
    "#### Spliting the data into two sets\n",
    "- splitting data into training and testing to check later if the generated formula will also predict good fitness on unseen data\n"
   ]
  },
  {
   "cell_type": "code",
   "execution_count": 22,
   "metadata": {},
   "outputs": [],
   "source": [
    "x_train, x_test, y_train, y_test = train_test_split(x_real.T, y_real, test_size=0.2, random_state=42)"
   ]
  },
  {
   "cell_type": "markdown",
   "metadata": {},
   "source": [
    "#### Defining constants, functions and variables"
   ]
  },
  {
   "cell_type": "code",
   "execution_count": 23,
   "metadata": {},
   "outputs": [
    {
     "name": "stdout",
     "output_type": "stream",
     "text": [
      "['x0', 'x1', 'x2']\n"
     ]
    }
   ],
   "source": [
    "OPERATORS = ['+', '-', '*', '/']  # Basic binary operators\n",
    "FUNCTIONS = ['sin', 'cos', 'log', 'tan', 'exp', 'sqrt', 'square']        # Example unary operators\n",
    "VARIABLES = [f\"x{i}\" for i in range(x_real.shape[0])] #used to have the variables according to the dataset\n",
    "def random_constant():\n",
    "    return round(random.uniform(-10, 10), 2)\n",
    "\n",
    "print(VARIABLES)"
   ]
  },
  {
   "cell_type": "markdown",
   "metadata": {},
   "source": [
    "#### Generate Random formula"
   ]
  },
  {
   "cell_type": "code",
   "execution_count": 24,
   "metadata": {},
   "outputs": [],
   "source": [
    "def generate_random_expr(max_depth, prob_function=0.5):\n",
    "\n",
    "    base_expr = VARIABLES.copy()\n",
    "    random.shuffle(base_expr)\n",
    "    \n",
    "\n",
    "    while len(base_expr) > 1:\n",
    "        left = base_expr.pop()\n",
    "        right = base_expr.pop()\n",
    "        op = random.choice(OPERATORS)\n",
    "        base_expr.append(f\"({left} {op} {right})\")\n",
    "    \n",
    "    formula = base_expr[0]\n",
    "    \n",
    "    def extend_formula(expr, depth):\n",
    "        if depth == 0:\n",
    "            return expr\n",
    "        if random.random() < prob_function:\n",
    "            func = random.choice(FUNCTIONS)\n",
    "            return f\"{func}({extend_formula(expr, depth - 1)})\"\n",
    "        else: \n",
    "            op = random.choice(OPERATORS)\n",
    "            new_term = random.choice(VARIABLES + [random_constant()])\n",
    "            if random.random() < 0.5:\n",
    "                return f\"({extend_formula(expr, depth - 1)} {op} {new_term})\"\n",
    "            else:\n",
    "                return f\"({new_term} {op} {extend_formula(expr, depth - 1)})\"\n",
    "    \n",
    "    formula = extend_formula(formula, max_depth)\n",
    "    return formula"
   ]
  },
  {
   "cell_type": "markdown",
   "metadata": {},
   "source": [
    "#### Transform and evaluation of the formula"
   ]
  },
  {
   "cell_type": "code",
   "execution_count": 25,
   "metadata": {},
   "outputs": [],
   "source": [
    "\n",
    "def safe_log(x):\n",
    "    if x <= 0:\n",
    "        return None \n",
    "    return np.log(x)\n",
    "\n",
    "def safe_sqrt(x):\n",
    "    if x < 0:\n",
    "        return None \n",
    "    return np.sqrt(x)\n",
    "\n",
    "\n",
    "def transform_formula(formula):\n",
    "    \n",
    "    if isinstance(formula, str):\n",
    "        formula = formula.replace(\"log\", \"safe_log\")  # Replace 'log' with safe_log\n",
    "        formula = formula.replace(\"sqrt\", \"safe_sqrt\")  # Replace 'sqrt' with safe_sqrt\n",
    "        formula = formula.replace(\"sin\", \"np.sin\")  \n",
    "        formula = formula.replace(\"cos\", \"np.cos\")  \n",
    "        formula = formula.replace(\"tan\", \"safe_tan\")  \n",
    "        formula = formula.replace(\"exp\", \"np.exp\")  \n",
    "        formula = formula.replace(\"square\", \"np.square\")\n",
    "    return formula\n",
    "\n",
    "    \n",
    "def evaluate_expr(expr, x_values):\n",
    "    variables = {f\"x{i}\": x for i, x in enumerate(x_values)}\n",
    "\n",
    "    if isinstance(expr, str):\n",
    "        expr = expr.replace(\" \", \"\")\n",
    "\n",
    "    # Try evaluating the expression with x_values\n",
    "    try:\n",
    "        # Use Python eval function to evaluate the formula with the safe functions\n",
    "        return eval(expr, {**variables, \"np\": np, \"safe_log\": safe_log, \"safe_sqrt\": safe_sqrt})\n",
    "    except Exception as e:\n",
    "            return np.nan\n",
    "\n",
    "\n"
   ]
  },
  {
   "cell_type": "markdown",
   "metadata": {},
   "source": [
    "#### Fitness computation (MSE)"
   ]
  },
  {
   "cell_type": "code",
   "execution_count": 26,
   "metadata": {},
   "outputs": [],
   "source": [
    "def compute_fitness(expr, x_values, y_values):\n",
    "    y_pred = []\n",
    "    for x_values in x_train: \n",
    "        prediction = evaluate_expr(expr, x_values)\n",
    "        if prediction is not None:\n",
    "            y_pred.append(prediction)\n",
    "        else:\n",
    "            y_pred.append(float('inf'))  \n",
    "    y_pred = np.array(y_pred)\n",
    "    mse = np.mean((y_pred - y_values) ** 2)\n",
    "    return mse \n"
   ]
  },
  {
   "cell_type": "markdown",
   "metadata": {},
   "source": [
    "### fitness filter\n",
    "\n",
    "- it is used to filter the formula which will have valid fitness values"
   ]
  },
  {
   "cell_type": "code",
   "execution_count": 27,
   "metadata": {},
   "outputs": [],
   "source": [
    "def filter_valid_fitness(fitness_scores, population):\n",
    "    valid_population = []\n",
    "    valid_fitness_scores = []\n",
    "    \n",
    "    for i, fitness in enumerate(fitness_scores):\n",
    "        if np.isfinite(fitness):  # Check if the fitness score is a valid number\n",
    "            valid_population.append(population[i])\n",
    "            valid_fitness_scores.append(fitness)\n",
    "    \n",
    "    return valid_population, valid_fitness_scores"
   ]
  },
  {
   "cell_type": "markdown",
   "metadata": {},
   "source": [
    "### Selection\n"
   ]
  },
  {
   "cell_type": "markdown",
   "metadata": {},
   "source": [
    "##### Tournment\n"
   ]
  },
  {
   "cell_type": "code",
   "execution_count": 28,
   "metadata": {},
   "outputs": [],
   "source": [
    "def tournament_selection(population, fitness_scores, num_parents, tournament_size=3):\n",
    "   \n",
    "    parents = []\n",
    "    population_size = len(population)\n",
    "    \n",
    "    if population_size < tournament_size:\n",
    "        tournament_size = population_size \n",
    "\n",
    "    for _ in range(num_parents):\n",
    "        tournament_indices = random.sample(range(population_size), tournament_size)\n",
    "\n",
    "        tournament_scores = [fitness_scores[i] for i in tournament_indices]\n",
    "\n",
    "        if not tournament_scores: \n",
    "            print(\"Error: Tournament scores list is empty.\")\n",
    "            continue\n",
    "\n",
    "        best_index = tournament_scores.index(min(tournament_scores))\n",
    "        best_individual_index = tournament_indices[best_index]\n",
    "\n",
    "        parents.append(population[best_individual_index])\n",
    "\n",
    "    return parents\n"
   ]
  },
  {
   "cell_type": "code",
   "execution_count": 29,
   "metadata": {},
   "outputs": [],
   "source": [
    "def run_selection(population_size, fitness_scores, population):\n",
    "    valid_population, valid_fitness_scores = filter_valid_fitness(fitness_scores, population)\n",
    "    \n",
    "    if len(valid_population) == 0:\n",
    "        print(\"No valid fitness scores. Exiting the selection process.\")\n",
    "        return None, None \n",
    "    \n",
    "    num_parents = population_size // 2  \n",
    "    \n",
    "    if len(valid_population) < 3:\n",
    "        print(\"Not enough individuals for tournament selection. Reducing tournament size to match population.\")\n",
    "        tournament_parents = tournament_selection(valid_population, valid_fitness_scores, num_parents, tournament_size=len(valid_population))\n",
    "    else:\n",
    "        tournament_parents = tournament_selection(valid_population, valid_fitness_scores, num_parents)\n",
    "    \n",
    "    return tournament_parents"
   ]
  },
  {
   "cell_type": "markdown",
   "metadata": {},
   "source": [
    "#### Crossover of 2 parents"
   ]
  },
  {
   "cell_type": "code",
   "execution_count": 30,
   "metadata": {},
   "outputs": [],
   "source": [
    "import ast\n",
    "import random\n",
    "\n",
    "\n",
    "def parse_formula_to_tree(formula):\n",
    "    return ast.parse(formula, mode='eval').body\n",
    "\n",
    "def tree_to_formula(tree):\n",
    "    return ast.unparse(tree)\n"
   ]
  },
  {
   "cell_type": "code",
   "execution_count": 31,
   "metadata": {},
   "outputs": [],
   "source": [
    "def select_random_subtree(tree):\n",
    "\n",
    "    if isinstance(tree, ast.BinOp) or isinstance(tree, ast.UnaryOp):\n",
    "        children = [tree.left, tree.right] if isinstance(tree, ast.BinOp) else [tree.operand]\n",
    "        if random.random() < 0.5:\n",
    "            return tree\n",
    "        return select_random_subtree(random.choice(children))\n",
    "    return tree \n",
    "\n",
    "def replace_subtree(tree, target, replacement):\n",
    "\n",
    "    if tree == target:\n",
    "        return replacement\n",
    "    if isinstance(tree, ast.BinOp):\n",
    "        tree.left = replace_subtree(tree.left, target, replacement)\n",
    "        tree.right = replace_subtree(tree.right, target, replacement)\n",
    "    elif isinstance(tree, ast.UnaryOp):\n",
    "        tree.operand = replace_subtree(tree.operand, target, replacement)\n",
    "    return tree\n",
    "\n",
    "def crossover(parent1, parent2):\n",
    "\n",
    "    tree1 = parse_formula_to_tree(parent1)\n",
    "    tree2 = parse_formula_to_tree(parent2)\n",
    "\n",
    "    subtree1 = select_random_subtree(tree1)\n",
    "    subtree2 = select_random_subtree(tree2)\n",
    "\n",
    "    offspring_tree1 = replace_subtree(tree1, subtree1, subtree2)\n",
    "    offspring_tree2 = replace_subtree(tree2, subtree2, subtree1)\n",
    "\n",
    "    offspring1 = tree_to_formula(offspring_tree1)\n",
    "    offspring2 = tree_to_formula(offspring_tree2)\n",
    "    \n",
    "    return offspring1, offspring2\n"
   ]
  },
  {
   "cell_type": "code",
   "execution_count": 32,
   "metadata": {},
   "outputs": [],
   "source": [
    "def crossover_population(population, num_to_select):\n",
    "    offspring = []\n",
    "    selected_parents = random.sample(population, num_to_select)\n",
    "\n",
    "    if len(selected_parents) % 2 != 0:\n",
    "        selected_parents = selected_parents[:-1]\n",
    "\n",
    "    for i in range(0, len(selected_parents), 2):\n",
    "        parent1 = selected_parents[i]\n",
    "        parent2 = selected_parents[i + 1]\n",
    "        child1, child2 = crossover(parent1, parent2)\n",
    "        offspring.extend([child1, child2])\n",
    "    \n",
    "    return offspring\n"
   ]
  },
  {
   "cell_type": "markdown",
   "metadata": {},
   "source": [
    "#### Mutation in the formula"
   ]
  },
  {
   "cell_type": "code",
   "execution_count": 33,
   "metadata": {},
   "outputs": [],
   "source": [
    "import random\n",
    "import ast\n",
    "\n",
    "def mutate_formula(formula, mutation_rate=0.3):\n",
    "    if random.random() > mutation_rate:\n",
    "        return formula \n",
    "\n",
    "    try:\n",
    "        tree = ast.parse(formula, mode='eval')\n",
    "    except Exception as e:\n",
    "        print(f\"Error parsing formula '{formula}' to AST: {e}\")\n",
    "        return formula  \n",
    "\n",
    "    mutated_tree = mutate_tree(tree, mutation_rate, VARIABLES)\n",
    "    return ast.unparse(mutated_tree) \n",
    "\n",
    "def mutate_tree(tree, mutation_rate, variables):\n",
    "    \"\"\"Mutates an AST tree.\"\"\"\n",
    "    mutations = 0\n",
    "    for node in ast.walk(tree):\n",
    "        if isinstance(node, ast.Constant) and random.random() < mutation_rate:\n",
    "            node.value = random.uniform(-10, 10)\n",
    "            mutations += 1\n",
    "\n",
    "        elif isinstance(node, ast.BinOp) and random.random() < mutation_rate:\n",
    "            node.op = random.choice([ast.Add(), ast.Sub(), ast.Mult(), ast.Div()])\n",
    "            mutations += 1\n",
    "\n",
    "        elif isinstance(node, ast.Call) and random.random() < mutation_rate:\n",
    "            if isinstance(node.func, ast.Name):\n",
    "                node.func.id = random.choice([\"sin\", \"cos\", \"tan\", \"log\", \"exp\", \"sqrt\", \"square\"])\n",
    "                mutations += 1\n",
    "\n",
    "        elif isinstance(node, ast.Name) and random.random() < mutation_rate:\n",
    "            if variables is not None:\n",
    "                node.id = random.choice(variables)  \n",
    "                mutations += 1\n",
    "\n",
    "    if mutations == 0:\n",
    "        node = random.choice(list(ast.walk(tree)))\n",
    "        if isinstance(node, ast.Constant):\n",
    "            node.value = random.uniform(-10, 10)\n",
    "        elif isinstance(node, ast.BinOp):\n",
    "            node.op = random.choice([ast.Add(), ast.Sub(), ast.Mult(), ast.Div()])\n",
    "        elif isinstance(node, ast.Call) and isinstance(node.func, ast.Name):\n",
    "            node.func.id = random.choice([\"sin\", \"cos\", \"tan\", \"log\", \"exp\", \"sqrt\", \"square\"])\n",
    "        elif isinstance(node, ast.Name):\n",
    "            node.id = random.choice(VARIABLES)\n",
    "\n",
    "    return tree\n",
    "\n"
   ]
  },
  {
   "cell_type": "markdown",
   "metadata": {},
   "source": [
    "### remove duplication"
   ]
  },
  {
   "cell_type": "markdown",
   "metadata": {},
   "source": [
    "#### Local search"
   ]
  },
  {
   "cell_type": "code",
   "execution_count": 34,
   "metadata": {},
   "outputs": [],
   "source": [
    "def slightly_modify_formula(formula):\n",
    "\n",
    "    if random.random() < 0.5: \n",
    "        operators = ['+', '-', '*', '/']\n",
    "        return formula.replace(random.choice(operators), random.choice(operators), 1)\n",
    "    else: \n",
    "        constants = [str(c) for c in range(-10, 10)] \n",
    "        return formula.replace(random.choice(constants), str(random.randint(-10, 10)), 1)\n"
   ]
  },
  {
   "cell_type": "code",
   "execution_count": 35,
   "metadata": {},
   "outputs": [],
   "source": [
    "def local_search(formula, fitness_function, max_steps=10):\n",
    "   \n",
    "    current_formula = formula\n",
    "    current_fitness = fitness_function(current_formula)\n",
    "    \n",
    "    for _ in range(max_steps):\n",
    "        neighbor = slightly_modify_formula(current_formula)\n",
    "\n",
    "        neighbor_fitness = fitness_function(neighbor)\n",
    "        \n",
    "\n",
    "        if neighbor_fitness < current_fitness:  \n",
    "            current_formula = neighbor\n",
    "            current_fitness = neighbor_fitness\n",
    "        else:\n",
    "            break\n",
    "    \n",
    "    return current_formula\n"
   ]
  },
  {
   "cell_type": "markdown",
   "metadata": {},
   "source": [
    "#### Genetic algorithm"
   ]
  },
  {
   "cell_type": "code",
   "execution_count": 40,
   "metadata": {},
   "outputs": [
    {
     "name": "stdout",
     "output_type": "stream",
     "text": [
      "\n",
      "Generation 1/2\n",
      "Best Formula in Generation 1: exp(cos(sin(tan(((x2 * x0) + x1))))) | Fitness = nan\n",
      "Combined Best Formula in Generation 1: cos(4.44 / (3.11 / ((x0 + x2) / x1) - 6.03)) | Fitness = 2949.9674644305787\n",
      "\n",
      "Generation 2/2\n",
      "Best Formula in Generation 2: cos(4.44 / (3.11 / ((x0 + x2) / x1) - 6.03)) | Fitness = 2949.9674644305787\n",
      "Combined Best Formula in Generation 2: cos(0.48439186164496917 / (-5.877217319183503 / ((x0 + x2) / x1) + 6.03)) | Fitness = 2935.124362487955\n",
      "outcomes are: \n",
      "Best formula is  cos(0.48439186164496917 / (-5.877217319183503 / ((x0 + x2) / x1) + 6.03))\n",
      "Best fitness value is  2935.124362487955\n"
     ]
    }
   ],
   "source": [
    "\n",
    "num_generations = 2\n",
    "population_size = 10\n",
    "num_to_select = population_size//2 \n",
    "mutation_rate = 0.3\n",
    "\n",
    "\n",
    "population = [generate_random_expr(max_depth=4) for _ in range(population_size)]\n",
    "\n",
    "# Print each formula\n",
    "# for i, formula in enumerate(population):\n",
    "#     print(f\"Formula {i + 1}: {formula}\")\n",
    "\n",
    "\n",
    "# Track the best formula and fitness\n",
    "overall_best_formula = None\n",
    "overall_best_fitness = float('inf')  # We want to minimize fitness\n",
    "best_fitness_scores_per_generation = []\n",
    "stagnation_counter = 0\n",
    "\n",
    "for generation in range(num_generations):\n",
    "    print(f\"\\nGeneration {generation + 1}/{num_generations}\")\n",
    "\n",
    "    # 1. **Evaluate Fitness Scores for Current Population**\n",
    "    transformed_formula = [transform_formula(formula) for formula in population]\n",
    "    fitness_scores = [compute_fitness(formula, x_train, y_train) for formula in transformed_formula]\n",
    "    \n",
    "    # Print the fitness scores (optional, for debugging)\n",
    "    # for i, (formula, score) in enumerate(zip(population, fitness_scores)):\n",
    "    #     print(f\"Formula {i + 1}: {formula} | Fitness = {score}\")\n",
    "          \n",
    "    best_fitness = min(fitness_scores)\n",
    "    best_index = fitness_scores.index(best_fitness)\n",
    "    best_formula = population[best_index]\n",
    "\n",
    "    if best_fitness < overall_best_fitness:\n",
    "        overall_best_formula = best_formula\n",
    "        overall_best_fitness = best_fitness\n",
    "        stagnation_counter = 0 \n",
    "    else:\n",
    "        stagnation_counter += 1\n",
    "\n",
    "    best_fitness_scores_per_generation.append((generation + 1, best_fitness, best_formula))\n",
    "    print(f\"Best Formula in Generation {generation + 1}: {best_formula} | Fitness = {best_fitness}\")\n",
    "\n",
    "\n",
    "    # 2. **Select Tournament Parents**\n",
    "    tournament_parents = run_selection(population_size, fitness_scores, population)\n",
    "    tournament_fitness_scores = [compute_fitness(transform_formula(formula), x_train, y_train) for formula in tournament_parents]\n",
    "    \n",
    "    # for i, (formula, score) in enumerate(zip(tournament_parents, tournament_fitness_scores)):\n",
    "    #     print(f\"Tournment Formula {i + 1}: {formula} | Fitness = {score}\")\n",
    "\n",
    "    # 3. **Crossover to Generate Offspring**\n",
    "    offspring = crossover_population(tournament_parents, int(len(tournament_parents)))\n",
    "    #fitness of offsprings\n",
    "    offspring_fitness_scores = [compute_fitness(transform_formula(formula), x_train, y_train) for formula in offspring]\n",
    "    # Print offspring after crossover (optional)\n",
    "    # print(\"\\nOffspring after crossover:\")\n",
    "    # for i, (formula, score) in enumerate(zip(offspring, offspring_fitness_scores)):\n",
    "    #     print(f\"offspring Formula {i + 1}: {formula} | Fitness = {score}\")\n",
    "\n",
    "    # 4. **Mutation on the Offspring**\n",
    "    mutated_offspring = [mutate_formula(child, mutation_rate) for child in offspring]\n",
    "\n",
    "    mutate_fitness_scores = [compute_fitness(transform_formula(formula), x_train, y_train) for formula in mutated_offspring]\n",
    "    \n",
    "    # 5. **Apply Local Search to Mutated Offspring**\n",
    "    refined_offspring = [\n",
    "        local_search(child, lambda f: compute_fitness(transform_formula(f), x_train, y_train))\n",
    "        for child in mutated_offspring\n",
    "    ]\n",
    "    \n",
    "    # print(\"\\nFitness scores for mutated offspring:\")\n",
    "    # for i, (formula, score) in enumerate(zip(mutated_offspring, mutated_fitness_scores)):\n",
    "    #     print(f\"Mutated Child {i}: Fitness = {score}\")\n",
    "\n",
    "    # 6. **Combine Parents and Offspring for Selection**\n",
    "    combined_population = tournament_parents + refined_offspring\n",
    "    combined_fitness_scores = [\n",
    "        compute_fitness(transform_formula(formula), x_train, y_train)\n",
    "        for formula in combined_population\n",
    "        ]\n",
    "\n",
    "\n",
    "    # Identify the best formula from the combined population\n",
    "    combined_best_fitness = min(combined_fitness_scores)\n",
    "    combined_best_index = combined_fitness_scores.index(combined_best_fitness)\n",
    "    combined_best_formula = combined_population[combined_best_index]\n",
    "\n",
    "    # Update overall best formula if needed\n",
    "    if combined_best_fitness < overall_best_fitness:\n",
    "        overall_best_formula = combined_best_formula\n",
    "        overall_best_fitness = combined_best_fitness\n",
    "\n",
    "    best_fitness_scores_per_generation.append((generation + 1, combined_best_fitness, combined_best_formula))\n",
    "    print(f\"Combined Best Formula in Generation {generation + 1}: {combined_best_formula} | Fitness = {combined_best_fitness}\")\n",
    "    \n",
    "    # print(\"\\nCombined population:\")\n",
    "    # for i, (formula, score) in enumerate(zip(combined_population, combined_fitness_scores)):\n",
    "    #     print(f\"combined Formula {i + 1}: {formula} | Fitness = {score}\")\n",
    "\n",
    "    assert len(combined_population) == len(combined_fitness_scores), \"Population and fitness scores do not match in length!\"\n",
    "\n",
    "    \n",
    "\n",
    "    # 7. **Check for Stagnation**\n",
    "    if stagnation_counter >= 3:\n",
    "        print(\"Fitness stagnated. Applying local search to improve diversity.\")\n",
    "        refined_population = [\n",
    "            local_search(ind, lambda f: compute_fitness(transform_formula(f), x_train, y_train))\n",
    "            for ind in random.sample(population, 10)\n",
    "        ]\n",
    "        combined_population[:10] = refined_population\n",
    "        stagnation_counter = 0\n",
    "\n",
    "    # 8. **Select the Best Individuals for the Next Generation**\n",
    "    next_generation_parents = run_selection(population_size, combined_fitness_scores, combined_population)\n",
    "\n",
    "    #fitness of next generation\n",
    "    nextgen_fitness_scores = [compute_fitness(transform_formula(formula), x_train, y_train) for formula in next_generation_parents]\n",
    "    # print(\"\\nSelected parents for the next generation:\")\n",
    "    # for i, (formula, score) in enumerate(zip(next_generation_parents, nextgen_fitness_scores)):\n",
    "    #     print(f\"next Formula {i + 1}: {formula} | Fitness = {score}\")\n",
    "\n",
    "    population = next_generation_parents  + refined_offspring[:population_size - len(next_generation_parents)]\n",
    "    # Print each formula\n",
    "    # for i, formula in enumerate(population):\n",
    "    #     print(f\"Formula for new generation {i + 1}: {formula}\")\n",
    "print(\"outcomes are: \")    \n",
    "print(\"Best formula is \", overall_best_formula)\n",
    "print(\"Best fitness value is \", overall_best_fitness)"
   ]
  }
 ],
 "metadata": {
  "kernelspec": {
   "display_name": "CI2024_lab1",
   "language": "python",
   "name": "python3"
  },
  "language_info": {
   "codemirror_mode": {
    "name": "ipython",
    "version": 3
   },
   "file_extension": ".py",
   "mimetype": "text/x-python",
   "name": "python",
   "nbconvert_exporter": "python",
   "pygments_lexer": "ipython3",
   "version": "3.13.0"
  }
 },
 "nbformat": 4,
 "nbformat_minor": 2
}
